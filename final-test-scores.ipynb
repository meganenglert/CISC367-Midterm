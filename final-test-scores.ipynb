{
 "cells": [
  {
   "cell_type": "markdown",
   "id": "twenty-river",
   "metadata": {},
   "source": [
    "# Delaware Test Scores: Charter Schools, Income Level, and Racial Equity\n",
    "By Megan Englert\n",
    "\n",
    "[Elevator Pitch!](https://youtu.be/zliwlCADFq0)\n",
    "\n",
    "### The Problem\n",
    "Charter schools are both prevalent and heavily debated in Delaware. While it makes sense that parents want to be able to choose their child's education, there are not enough charter schools to meet demand right now. Do parents really get to \"choose\" when they are reliant on their student's scores or a random lottery to be able to actually make that choice? Many people protest charter schools, however, arguing that the per-student funding lost from public schools makes a difference. A few students per grade leaving results in lost funding in many states, but does not decrease the cost of faculty or maintaining the building.\n",
    "\n",
    "But here's an important question: *Do charter schools actually make a difference?* This report will consider the percentage proficiency from different districts on the Smarter Balanced Standardized Assessment, a common assessment in Delaware meant to measure students' progress. The two datasets used in this report were both collected by the Delaware Depertment of Education. One contains [test data](https://data.delaware.gov/Education/Student-Assessment-Performance/ms6b-mt82), while [the other](https://data.delaware.gov/Education/Delaware-Public-Education-Organization-Directory/p3ez-si4g) will be used to obtain each school's \"District Type\" for charter vs. non-charter public.\n",
    "\n",
    "### Justification \n",
    "A 2014 publication by the Economic Policy Institute, [Richard Rothstein's \"The Racial Achievement Gap, Segregated Schools, and Segregated Neighborhoods - A Constitutional Insult\"](https://www.epi.org/publication/the-racial-achievement-gap-segregated-schools-and-segregated-neighborhoods-a-constitutional-insult/), analyzes the factors of race and income level that play into educational success. Rothstein considers both factors outside the classroom, such as worse health care causing absences, less educated parents, and fewer opportunities for enrichment outside of school, and inside it, like how higher student mobility results in repeated lessons and the requirement for more remediation leaving excelling students left behind. Furthermore, these students' lesser successes in education result in lower expected income, dooming their children to a similar future unless this inequality is resolved.\n",
    "\n",
    "Rothstein cites statistics found by NYU sociologist Patrick Sharkey in 2013:\n",
    "> \"Sharkey finds that young African Americans (from 13 to 28 years old) are now ten times as likely to live in poor neighborhoods, defined in this way, as young whites—66 percent of African Americans, compared to 6 percent of whites (Sharkey, 2013, p. 27, Fig. 2.1). What’s more, for black families, mobility out of such neighborhoods is much more limited than for whites. Sharkey shows that 67 percent of African American families hailing from the poorest quarter of neighborhoods a generation ago continue to live in such neighborhoods today. But only 40 percent of white families who lived in the poorest quarter of neighborhoods a generation ago still do so (Sharkey, 2013, p. 38, Fig. 2.6)\" (Rothstein).\n",
    "\n",
    "These educational disparities play strongly into the cycle of poverty, especially for non-white students, who often have a more difficult time overcoming their circumstances due to biased employers and educational institutions. \n",
    "\n",
    "The choice and opportunity to attend charter schools could similarly impact students' ability to achieve. [Zachary Jason's The Battle Over Charter Schools](https://www.gse.harvard.edu/news/ed/17/05/battle-over-charter-schools), published in Harvard Ed. Magazine in Summer 2017, analyzes both side's thoughts. At the time of writing, 32,000 children, with a majority Black and Latino population, were on waitlists for existing charter schools, seeking access to a better education than a public school could offer (Jason). Not all charter schools are created equal; 200 close each year, sometimes in the middle of a school year or even school day, and one was caught being used as an illegal nightclub on the weekends (Jason). Jason also cites charter schools' high teacher turnover rate, 24 percent, double that of traditional schools, which could potentially stifle student success (Jason). However, if implemented properly, charter schools could help motivated students and families to find a better education.\n",
    "\n",
    "While charter schools are struggling to pass legislation in some states (Jason), [the National Alliance for Public Charter Schools](https://www.publiccharters.org/our-work/charter-law-database/states/delaware) recorded 16,086 DE charter students in the 2018-2019 school year, accounting for 13% of the total public school enrollment. Furthermore, Delaware is ranked 15th by the NAPCS for its public charter laws, since it \"provides a fair amount of autonomy and accountability to its public charter schools, but it provides inequitable funding to charter schools\" (\"Delaware\").\n",
    "\n",
    "### Ethical Concerns\n",
    "\n",
    "- **Causation Assumptions**: \n",
    "    - **Race and Income Level**: Analysis of this data may show that students of certain races or income levels tend to get better or worse test scores. If analysis is made implying a direct causation, it implies that these students are simply incapable of getting comparable test scores instead of experiencing environmental factors that affect their results. In my analysis, it must be made clear any association found is likely a result of the many explanations offered by Rothstein, such as worse support at home and worse funding.\n",
    "    - **Charter Schools**: Furthermore, this analysis may also show that students in charter schools tend to perform better or worse than students in traditional schools. This may also be caused by a myriad of factors, especially considering that some charter schools use merit-based admission. They may also be experiencing better educational support at home, since their parents went through the effort to actively change their school. While the data may show that either traditional or charter schooling is better for test scores, it may simply be the factors surrounding who is currently able to access charter schools.\n",
    "- **Funding**:\n",
    "    - **Race and Income Level**: Rather than trying to distribute funding so that all can access education equally, some may argue that schools receiving better test scores should continue to get more funding to give their high-achieving students more opportunities to succeed in different areas. Money spent on remediation is not spent on advancement, and a more utilitarian argument may see value in leaving students in the educational dust while others receive even more opportunities.\n",
    "    - **Charter Schools**: Continuing with the idea of causation, because of the way that charter school students are selected, there may be many outside factors causing a difference in scores. Furthermore, even if they are beneficial, they may not be the one-size-fits-all solution. For example, one cost of charter schools is the variety of programs offered. If 1 in 25 students are interested in playing in a music ensemble or taking a certain specialized course, a 1,000 student public school could easily justify the cost of providing facilities and a teacher. A 200 person charter school, however, would still have to find a teacher and facilities for those 8 students, and they can't simply pay the teacher 1/5 of a salary for teaching 1/5 of the students. The further breakdown of traditional schools into charter schools has likely not been studied well enough to try to successfully implement on a state-wide level."
   ]
  },
  {
   "cell_type": "markdown",
   "id": "robust-drawing",
   "metadata": {},
   "source": [
    "## Data Pre-Processing"
   ]
  },
  {
   "cell_type": "code",
   "execution_count": 4,
   "id": "excited-pregnancy",
   "metadata": {},
   "outputs": [
    {
     "data": {
      "text/html": [
       "<div>\n",
       "<style scoped>\n",
       "    .dataframe tbody tr th:only-of-type {\n",
       "        vertical-align: middle;\n",
       "    }\n",
       "\n",
       "    .dataframe tbody tr th {\n",
       "        vertical-align: top;\n",
       "    }\n",
       "\n",
       "    .dataframe thead th {\n",
       "        text-align: right;\n",
       "    }\n",
       "</style>\n",
       "<table border=\"1\" class=\"dataframe\">\n",
       "  <thead>\n",
       "    <tr style=\"text-align: right;\">\n",
       "      <th></th>\n",
       "      <th>District Code</th>\n",
       "      <th>District Type</th>\n",
       "      <th>School Year</th>\n",
       "      <th>District</th>\n",
       "      <th>School Code</th>\n",
       "      <th>Organization</th>\n",
       "      <th>Assessment Name</th>\n",
       "      <th>ContentArea</th>\n",
       "      <th>Race</th>\n",
       "      <th>Gender</th>\n",
       "      <th>Grade</th>\n",
       "      <th>SpecialDemo</th>\n",
       "      <th>Geography</th>\n",
       "      <th>SubGroup</th>\n",
       "      <th>RowStatus</th>\n",
       "      <th>Tested</th>\n",
       "      <th>Proficient</th>\n",
       "      <th>PctProficient</th>\n",
       "      <th>ScaleScoreAvg</th>\n",
       "    </tr>\n",
       "  </thead>\n",
       "  <tbody>\n",
       "    <tr>\n",
       "      <th>3646</th>\n",
       "      <td>10</td>\n",
       "      <td>Regular</td>\n",
       "      <td>2015</td>\n",
       "      <td>Caesar Rodney School District</td>\n",
       "      <td>0</td>\n",
       "      <td>Caesar Rodney School District</td>\n",
       "      <td>DCAS Alternate Assessment</td>\n",
       "      <td>ELA</td>\n",
       "      <td>Hispanic/Latino</td>\n",
       "      <td>All Students</td>\n",
       "      <td>3rd Grade</td>\n",
       "      <td>All Students</td>\n",
       "      <td>All Students</td>\n",
       "      <td>Hispanic/Latino/3rd Grade</td>\n",
       "      <td>REDACTED</td>\n",
       "      <td>NaN</td>\n",
       "      <td>NaN</td>\n",
       "      <td>NaN</td>\n",
       "      <td>NaN</td>\n",
       "    </tr>\n",
       "    <tr>\n",
       "      <th>3647</th>\n",
       "      <td>10</td>\n",
       "      <td>Regular</td>\n",
       "      <td>2015</td>\n",
       "      <td>Caesar Rodney School District</td>\n",
       "      <td>0</td>\n",
       "      <td>Caesar Rodney School District</td>\n",
       "      <td>DCAS Alternate Assessment</td>\n",
       "      <td>ELA</td>\n",
       "      <td>Hispanic/Latino</td>\n",
       "      <td>All Students</td>\n",
       "      <td>4th Grade</td>\n",
       "      <td>All Students</td>\n",
       "      <td>All Students</td>\n",
       "      <td>Hispanic/Latino/4th Grade</td>\n",
       "      <td>REDACTED</td>\n",
       "      <td>NaN</td>\n",
       "      <td>NaN</td>\n",
       "      <td>NaN</td>\n",
       "      <td>NaN</td>\n",
       "    </tr>\n",
       "    <tr>\n",
       "      <th>3648</th>\n",
       "      <td>10</td>\n",
       "      <td>Regular</td>\n",
       "      <td>2015</td>\n",
       "      <td>Caesar Rodney School District</td>\n",
       "      <td>0</td>\n",
       "      <td>Caesar Rodney School District</td>\n",
       "      <td>DCAS Alternate Assessment</td>\n",
       "      <td>ELA</td>\n",
       "      <td>Hispanic/Latino</td>\n",
       "      <td>All Students</td>\n",
       "      <td>5th Grade</td>\n",
       "      <td>All Students</td>\n",
       "      <td>All Students</td>\n",
       "      <td>Hispanic/Latino/5th Grade</td>\n",
       "      <td>REDACTED</td>\n",
       "      <td>NaN</td>\n",
       "      <td>NaN</td>\n",
       "      <td>NaN</td>\n",
       "      <td>NaN</td>\n",
       "    </tr>\n",
       "    <tr>\n",
       "      <th>3649</th>\n",
       "      <td>10</td>\n",
       "      <td>Regular</td>\n",
       "      <td>2015</td>\n",
       "      <td>Caesar Rodney School District</td>\n",
       "      <td>0</td>\n",
       "      <td>Caesar Rodney School District</td>\n",
       "      <td>DCAS Alternate Assessment</td>\n",
       "      <td>ELA</td>\n",
       "      <td>Hispanic/Latino</td>\n",
       "      <td>All Students</td>\n",
       "      <td>6th Grade</td>\n",
       "      <td>All Students</td>\n",
       "      <td>All Students</td>\n",
       "      <td>Hispanic/Latino/6th Grade</td>\n",
       "      <td>REDACTED</td>\n",
       "      <td>NaN</td>\n",
       "      <td>NaN</td>\n",
       "      <td>NaN</td>\n",
       "      <td>NaN</td>\n",
       "    </tr>\n",
       "    <tr>\n",
       "      <th>3650</th>\n",
       "      <td>10</td>\n",
       "      <td>Regular</td>\n",
       "      <td>2015</td>\n",
       "      <td>Caesar Rodney School District</td>\n",
       "      <td>0</td>\n",
       "      <td>Caesar Rodney School District</td>\n",
       "      <td>DCAS Alternate Assessment</td>\n",
       "      <td>ELA</td>\n",
       "      <td>Hispanic/Latino</td>\n",
       "      <td>All Students</td>\n",
       "      <td>7th Grade</td>\n",
       "      <td>All Students</td>\n",
       "      <td>All Students</td>\n",
       "      <td>Hispanic/Latino/7th Grade</td>\n",
       "      <td>REDACTED</td>\n",
       "      <td>NaN</td>\n",
       "      <td>NaN</td>\n",
       "      <td>NaN</td>\n",
       "      <td>NaN</td>\n",
       "    </tr>\n",
       "  </tbody>\n",
       "</table>\n",
       "</div>"
      ],
      "text/plain": [
       "      District Code District Type  School Year                       District  \\\n",
       "3646             10       Regular         2015  Caesar Rodney School District   \n",
       "3647             10       Regular         2015  Caesar Rodney School District   \n",
       "3648             10       Regular         2015  Caesar Rodney School District   \n",
       "3649             10       Regular         2015  Caesar Rodney School District   \n",
       "3650             10       Regular         2015  Caesar Rodney School District   \n",
       "\n",
       "      School Code                   Organization            Assessment Name  \\\n",
       "3646            0  Caesar Rodney School District  DCAS Alternate Assessment   \n",
       "3647            0  Caesar Rodney School District  DCAS Alternate Assessment   \n",
       "3648            0  Caesar Rodney School District  DCAS Alternate Assessment   \n",
       "3649            0  Caesar Rodney School District  DCAS Alternate Assessment   \n",
       "3650            0  Caesar Rodney School District  DCAS Alternate Assessment   \n",
       "\n",
       "     ContentArea             Race        Gender      Grade   SpecialDemo  \\\n",
       "3646         ELA  Hispanic/Latino  All Students  3rd Grade  All Students   \n",
       "3647         ELA  Hispanic/Latino  All Students  4th Grade  All Students   \n",
       "3648         ELA  Hispanic/Latino  All Students  5th Grade  All Students   \n",
       "3649         ELA  Hispanic/Latino  All Students  6th Grade  All Students   \n",
       "3650         ELA  Hispanic/Latino  All Students  7th Grade  All Students   \n",
       "\n",
       "         Geography                   SubGroup RowStatus  Tested  Proficient  \\\n",
       "3646  All Students  Hispanic/Latino/3rd Grade  REDACTED     NaN         NaN   \n",
       "3647  All Students  Hispanic/Latino/4th Grade  REDACTED     NaN         NaN   \n",
       "3648  All Students  Hispanic/Latino/5th Grade  REDACTED     NaN         NaN   \n",
       "3649  All Students  Hispanic/Latino/6th Grade  REDACTED     NaN         NaN   \n",
       "3650  All Students  Hispanic/Latino/7th Grade  REDACTED     NaN         NaN   \n",
       "\n",
       "      PctProficient  ScaleScoreAvg  \n",
       "3646            NaN            NaN  \n",
       "3647            NaN            NaN  \n",
       "3648            NaN            NaN  \n",
       "3649            NaN            NaN  \n",
       "3650            NaN            NaN  "
      ]
     },
     "execution_count": 4,
     "metadata": {},
     "output_type": "execute_result"
    }
   ],
   "source": [
    "#Importing necessary libraries\n",
    "import pandas as pd\n",
    "import numpy as np\n",
    "import seaborn as sns\n",
    "import matplotlib.pyplot as plt\n",
    "import scipy.stats as stats\n",
    "\n",
    "#Importing data\n",
    "data1 = pd.read_csv(\"C:\\\\Users\\\\megan\\\\Desktop\\\\CISC367\\\\Datasets\\\\Student_Assessment_Performance.csv\")\n",
    "data2 = pd.read_csv(\"C:\\\\Users\\\\megan\\\\Desktop\\\\CISC367\\\\Datasets\\\\Delaware_Public_Education_Organization_Directory.csv\")\n",
    "\n",
    "# Merging datasets to get district type for each district\n",
    "data1.head()\n",
    "types = data2[[\"District Code\",\"District Type\"]]\n",
    "types = types.drop_duplicates()\n",
    "combined = pd.merge(types, data1)\n",
    "# Dropping non-standard and non-charter schools since we are not considering them\n",
    "combined = combined[combined['District Type']!= \"Not Applicable\"]\n",
    "combined.head()"
   ]
  },
  {
   "cell_type": "markdown",
   "id": "metropolitan-herald",
   "metadata": {},
   "source": [
    "## Percentage Proficiency\n",
    "\n",
    "This report is based on the percentage proficient reported for each age group in each demographic. This percentage reflects the number of students who have met or exceeded state standards. The following graph shows the distribution of percent proficient for all students across all districts in DE for the year 2019."
   ]
  },
  {
   "cell_type": "code",
   "execution_count": 14,
   "id": "olympic-atlantic",
   "metadata": {},
   "outputs": [
    {
     "data": {
      "image/png": "[encoded data removed]",
      "text/plain": [
       "<Figure size 432x288 with 1 Axes>"
      ]
     },
     "metadata": {
      "needs_background": "light"
     },
     "output_type": "display_data"
    },
    {
     "data": {
      "text/plain": [
       "count    340.000000\n",
       "mean      48.798147\n",
       "std       18.530959\n",
       "min        3.680000\n",
       "25%       36.477500\n",
       "50%       50.840000\n",
       "75%       61.312500\n",
       "max       94.580000\n",
       "Name: PctProficient, dtype: float64"
      ]
     },
     "execution_count": 14,
     "metadata": {},
     "output_type": "execute_result"
    }
   ],
   "source": [
    "df_overall = combined[(combined.SubGroup == 'All Students') & \n",
    "                      (combined['Assessment Name'] == 'Smarter Balanced Summative Assessment') & \n",
    "                      (combined.RowStatus == 'REPORTED') & \n",
    "                      (combined['School Year'] == 2019)]\n",
    "df = df_overall\n",
    "sns.boxplot(x = 'PctProficient',\n",
    "           data = df).set(xlim=(0,100))\n",
    "plt.title(\"Percentages Proficient for All District in DE, 2019\")\n",
    "plt.xlabel(\"Percent of Students Proficient\")\n",
    "plt.show()\n",
    "df.PctProficient.describe()"
   ]
  },
  {
   "cell_type": "markdown",
   "id": "regular-stream",
   "metadata": {},
   "source": [
    "As we can see, the percentage of proficient students in each district varied extremely greatly, from 3.68% to 94.58%."
   ]
  },
  {
   "cell_type": "markdown",
   "id": "boolean-chinese",
   "metadata": {},
   "source": [
    "## Charter Schools\n",
    "Now, we will compare regular schools to charter school scores."
   ]
  },
  {
   "cell_type": "code",
   "execution_count": 18,
   "id": "junior-electron",
   "metadata": {},
   "outputs": [
    {
     "data": {
      "image/png": "[encoded data removed]",
      "text/plain": [
       "<Figure size 432x288 with 1 Axes>"
      ]
     },
     "metadata": {
      "needs_background": "light"
     },
     "output_type": "display_data"
    }
   ],
   "source": [
    "sns.barplot(y = 'District Type',\n",
    "           x = 'PctProficient',\n",
    "           data = df,\n",
    "           palette = 'Blues',\n",
    "           estimator = np.median).set(xlim=(0,100))\n",
    "plt.title(\"Median Percent Proficiency in DE by District Type on the SBSA, 2019\")\n",
    "plt.ylabel(\"District Type\")\n",
    "plt.xlabel(\"Percentage Proficient\")\n",
    "plt.show()"
   ]
  },
  {
   "cell_type": "markdown",
   "id": "affected-austin",
   "metadata": {},
   "source": [
    "Now we will test to see if the difference is as pronounced as it appears."
   ]
  },
  {
   "cell_type": "code",
   "execution_count": 22,
   "id": "prospective-xerox",
   "metadata": {},
   "outputs": [
    {
     "name": "stdout",
     "output_type": "stream",
     "text": [
      "Difference between two independent T's for charter vs. non-charter:  1.918579093783365 0.05587968932075212 False\n",
      "There is no statistically signficant difference in the Percentage Proficient for Charter vs Non-Charter schools on the SBSA.\n"
     ]
    }
   ],
   "source": [
    "df_reg = df[df[\"District Type\"] == \"Regular\"]\n",
    "df_charter = df[df[\"District Type\"] == \"Charter\"]\n",
    "test_stat, p = stats.ttest_ind(df_reg.PctProficient, df_charter.PctProficient)\n",
    "print(\"Difference between two independent T's for charter vs. non-charter: \", test_stat, p, p < 0.05)\n",
    "print(\"There is no statistically signficant difference in the Percentage Proficient for Charter vs Non-Charter schools on the SBSA.\")"
   ]
  },
  {
   "cell_type": "markdown",
   "id": "developmental-reform",
   "metadata": {},
   "source": [
    "## Low-Income Students\n",
    "Since the original dataset does not separate non-low-income students from the population, we technically are unable to make good comparisons with low-income students against the rest of the population. While this is technically incorrect, it is the best we have for now. If anything, it is possible that there may actually be a larger difference, since one of the datasets contains the other."
   ]
  },
  {
   "cell_type": "code",
   "execution_count": 25,
   "id": "spoken-rachel",
   "metadata": {},
   "outputs": [
    {
     "data": {
      "image/png": "[encoded data removed]",
      "text/plain": [
       "<Figure size 432x288 with 1 Axes>"
      ]
     },
     "metadata": {
      "needs_background": "light"
     },
     "output_type": "display_data"
    }
   ],
   "source": [
    "df_low_inc = combined[((combined.SubGroup == 'Low Income') | (combined.SubGroup == 'All Students'))\n",
    "                      & (combined['Assessment Name'] == 'Smarter Balanced Summative Assessment') \n",
    "                      & (combined.RowStatus == 'REPORTED') \n",
    "                      & (combined['School Year'] == 2019)]\n",
    "df = df_low_inc\n",
    "sns.barplot(y = 'SubGroup',\n",
    "           x = 'PctProficient',\n",
    "           data = df,\n",
    "           palette = 'Greens',\n",
    "           estimator = np.median).set(xlim=(0,100))\n",
    "plt.title(\"Percent Proficiency in 2019 on the SBSA, Low Income vs. All DE Students\")\n",
    "plt.xlabel(\"Percentage Proficient\")\n",
    "plt.ylabel(\"Sub Group of Students\")\n",
    "plt.show()"
   ]
  },
  {
   "cell_type": "code",
   "execution_count": 29,
   "id": "coordinated-basketball",
   "metadata": {},
   "outputs": [
    {
     "name": "stdout",
     "output_type": "stream",
     "text": [
      "Difference between two independent T's for low income vs. all students:  9.604673535469209 1.496920853483063e-20 True\n",
      "There is a statistically significant difference between percent proficiency for low income and all students in Delaware.\n",
      "A randomly selected student from the entire student population is 1.3537382901260329 more likely to be proficient on the SBSA than a student from the low-income population.\n"
     ]
    }
   ],
   "source": [
    "df_all = df[df[\"SubGroup\"] == \"All Students\"]\n",
    "df_low = df[df[\"SubGroup\"] == \"Low Income\"]\n",
    "test_stat, p = stats.ttest_ind(df_all.PctProficient, df_low.PctProficient)\n",
    "print(\"Difference between two independent T's for low income vs. all students: \", test_stat, p, p < 0.05)\n",
    "print(\"There is a statistically significant difference between percent proficiency for low income and all students in Delaware.\")\n",
    "print(\"A randomly selected student from the entire student population is\", df_all.PctProficient.mean()/df_low.PctProficient.mean(), \"more likely to be proficient on the SBSA than a student from the low-income population.\")"
   ]
  },
  {
   "cell_type": "markdown",
   "id": "provincial-constitution",
   "metadata": {},
   "source": [
    "## Charter Schools and Low-Income"
   ]
  },
  {
   "cell_type": "code",
   "execution_count": 31,
   "id": "comfortable-monte",
   "metadata": {},
   "outputs": [
    {
     "data": {
      "image/png": "[encoded data removed]",
      "text/plain": [
       "<Figure size 432x288 with 1 Axes>"
      ]
     },
     "metadata": {
      "needs_background": "light"
     },
     "output_type": "display_data"
    }
   ],
   "source": [
    "sns.barplot(y = 'SubGroup',\n",
    "           x = 'PctProficient',\n",
    "           hue = 'District Type',\n",
    "           data = df,\n",
    "           palette = 'Greens',\n",
    "           estimator = np.median).set(xlim=(0,100))\n",
    "plt.title(\"Percent Proficiency in 2019 on the SBSA, Low Income vs. All DE Students\")\n",
    "plt.ylabel(\"Sub Group of Students\")\n",
    "plt.xlabel(\"Perecentage Proficient\")\n",
    "plt.show()"
   ]
  },
  {
   "cell_type": "code",
   "execution_count": 34,
   "id": "annual-package",
   "metadata": {},
   "outputs": [
    {
     "name": "stdout",
     "output_type": "stream",
     "text": [
      "Difference between two independent T's for low income students, regular vs. charter:  1.2057966270561442 0.22875975077464558 False\n",
      "There is no statistically significant difference in percentage proficient on the SBSA for low income students depending on whether they attend charter or regular school.\n"
     ]
    }
   ],
   "source": [
    "df_low_reg = df_low[df_low[\"District Type\"] == \"Regular\"]\n",
    "df_low_charter = df_low[df_low[\"District Type\"] == \"Charter\"]\n",
    "test_stat, p = stats.ttest_ind(df_low_reg.PctProficient, df_low_charter.PctProficient)\n",
    "print(\"Difference between two independent T's for low income students, regular vs. charter: \", test_stat, p, p < 0.05)\n",
    "print(\"There is no statistically significant difference in percentage proficient on the SBSA for low income students depending on whether they attend charter or regular school.\")"
   ]
  },
  {
   "cell_type": "markdown",
   "id": "labeled-copying",
   "metadata": {},
   "source": [
    "While low-income charter school attendees had the lowest amount of percentage proficient, there is no statistical significance for low income students depending on whether they attend a charter or regular school.\n",
    "\n",
    "## Race\n",
    "\n",
    "*Note*: Data on Native Americans and Native Hawaiian/Pacific Islanders have been excluded in charter school calculations due to limited data. Some data with counts too low has been redacted to protect the identity of specific students, and that became and issue with trying to work with data for these two groups."
   ]
  },
  {
   "cell_type": "code",
   "execution_count": 44,
   "id": "printable-monitoring",
   "metadata": {},
   "outputs": [],
   "source": [
    "test = 'Smarter Balanced Summative Assessment'\n",
    "races = ['Hispanic/Latino','African American','White','Asian American',\n",
    "         'Multi-Racial']\n",
    "df_race = combined[(combined['Assessment Name'] == test) \n",
    "              & (combined['RowStatus'] == 'REPORTED')\n",
    "              & (combined['SubGroup'].isin(races)) \n",
    "              & (combined['School Year'] == 2019)]\n",
    "df = df_race"
   ]
  },
  {
   "cell_type": "code",
   "execution_count": 53,
   "id": "caroline-wholesale",
   "metadata": {},
   "outputs": [
    {
     "data": {
      "image/png": "[encoded data removed]",
      "text/plain": [
       "<Figure size 842.4x595.44 with 1 Axes>"
      ]
     },
     "metadata": {
      "needs_background": "light"
     },
     "output_type": "display_data"
    }
   ],
   "source": [
    "sns.barplot(y = 'Race',\n",
    "           x = 'PctProficient',\n",
    "           data = df,\n",
    "           palette = 'colorblind',\n",
    "           estimator = np.median).set(xlim=(0,100))\n",
    "plt.rcParams['figure.figsize'] = 11.7,8.27\n",
    "plt.title(\"Percent Proficiency SBSA Proficiency By Race, DE Students 2019\")\n",
    "plt.xlabel(\"Percentage Proficient\")\n",
    "plt.ylabel(\"Race\")\n",
    "plt.show()"
   ]
  },
  {
   "cell_type": "code",
   "execution_count": 56,
   "id": "civilian-target",
   "metadata": {},
   "outputs": [
    {
     "name": "stdout",
     "output_type": "stream",
     "text": [
      "Racial Comparison on SBSA  151.59986448761728 6.800549340841487e-82 True\n",
      "White proficiency to African American proficiency odds ratio: 1.73200077556977\n"
     ]
    }
   ],
   "source": [
    "#Test difference between races on SBSA\n",
    "hl = df[df.Race == 'Hispanic/Latino']\n",
    "aa = df[df.Race == 'African American']\n",
    "w = df[df.Race == 'White']\n",
    "mr = df[df.Race == \"Multi-Racial\"]\n",
    "test_stat, p = stats.f_oneway(hl.PctProficient,aa.PctProficient,w.PctProficient,mr.PctProficient)\n",
    "print(\"Racial Comparison on SBSA \", test_stat, p, p < 0.05)\n",
    "print(\"White proficiency to African American proficiency odds ratio:\", w.PctProficient.mean()/aa.PctProficient.mean())"
   ]
  },
  {
   "cell_type": "markdown",
   "id": "married-quick",
   "metadata": {},
   "source": [
    "By the above ANOVA test, there is a statistically significant difference between different races' percentage proficient on the SBSA in 2019.\n",
    "\n",
    "White students were 1.732 times more likely to be proficient than African American students.\n",
    "\n",
    "## Charter Schools and Race"
   ]
  },
  {
   "cell_type": "code",
   "execution_count": 57,
   "id": "endless-congo",
   "metadata": {},
   "outputs": [
    {
     "data": {
      "image/png": "[encoded data removed]",
      "text/plain": [
       "<Figure size 842.4x595.44 with 1 Axes>"
      ]
     },
     "metadata": {
      "needs_background": "light"
     },
     "output_type": "display_data"
    }
   ],
   "source": [
    "sns.barplot(y = 'Race',\n",
    "           x = 'PctProficient',\n",
    "           hue = 'District Type',\n",
    "           data = df,\n",
    "           palette = 'colorblind',\n",
    "           estimator = np.median).set(xlim=(0,100))\n",
    "plt.title(\"Percent Proficiency SBSA Proficiency By Race, DE Students 2019\")\n",
    "plt.ylabel(\"Race\")\n",
    "plt.xlabel(\"Percentage Proficient\")\n",
    "plt.show()"
   ]
  },
  {
   "cell_type": "markdown",
   "id": "cleared-surgeon",
   "metadata": {},
   "source": [
    "Interestingly, when we control for race, the 2019 scores actually all showed at least a slightly higher proficiency than regular schools. This may suggest that charter schools have higher percentages of races that are statistically less proficient on scores than regular schools do. Now we will test to see if any of those are statistically significant."
   ]
  },
  {
   "cell_type": "code",
   "execution_count": 61,
   "id": "linear-monte",
   "metadata": {},
   "outputs": [
    {
     "name": "stdout",
     "output_type": "stream",
     "text": [
      "Difference between two means T-test for Hispanic students, regular vs. charter:  -2.1117618270815472 0.03556205495455925 True\n",
      "Hispanic/Latino charter to regular proficiency odds ratio: 1.162911046055168\n",
      "\n",
      "Difference between two means T-test for African American students, regular vs. charter:  -0.35999605777502847 0.7190920940659897 False\n",
      "\n",
      "Difference between two means T-test for White students, regular vs. charter:  -0.3159038120644893 0.7522887872474029 False\n",
      "\n",
      "Difference between two means T-test for Multi-Racial students, regular vs. charter:  -2.6726874969384182 0.008329894137246108 True\n",
      "Multi-Racial charter to regular proficiency odds ratio: 1.2555513158943978\n"
     ]
    }
   ],
   "source": [
    "test_stat, p = stats.ttest_ind(hl[hl[\"District Type\"] == 'Regular'].PctProficient, hl[hl[\"District Type\"] == 'Charter'].PctProficient)\n",
    "print(\"Difference between two means T-test for Hispanic students, regular vs. charter: \", test_stat, p, p < 0.05)\n",
    "print(\"Hispanic/Latino charter to regular proficiency odds ratio:\", hl[hl[\"District Type\"] == 'Charter'].PctProficient.mean()/hl[hl[\"District Type\"] == 'Regular'].PctProficient.mean())\n",
    "print()\n",
    "test_stat, p = stats.ttest_ind(aa[aa[\"District Type\"] == 'Regular'].PctProficient, aa[aa[\"District Type\"] == 'Charter'].PctProficient)\n",
    "print(\"Difference between two means T-test for African American students, regular vs. charter: \", test_stat, p, p < 0.05)\n",
    "print()\n",
    "test_stat, p = stats.ttest_ind(w[w[\"District Type\"] == 'Regular'].PctProficient, w[w[\"District Type\"] == 'Charter'].PctProficient)\n",
    "print(\"Difference between two means T-test for White students, regular vs. charter: \", test_stat, p, p < 0.05)\n",
    "print()\n",
    "test_stat, p = stats.ttest_ind(mr[mr[\"District Type\"] == 'Regular'].PctProficient, mr[mr[\"District Type\"] == 'Charter'].PctProficient)\n",
    "print(\"Difference between two means T-test for Multi-Racial students, regular vs. charter: \", test_stat, p, p < 0.05)\n",
    "print(\"Multi-Racial charter to regular proficiency odds ratio:\", mr[mr[\"District Type\"] == 'Charter'].PctProficient.mean()/mr[mr[\"District Type\"] == 'Regular'].PctProficient.mean())\n"
   ]
  },
  {
   "cell_type": "markdown",
   "id": "english-thumbnail",
   "metadata": {},
   "source": [
    "As we can see from the above results, only Hispanic/Latino and Multi-Racial students had a statistically significant difference of proficiency in charter vs. regular schools. Even with this difference, they both had a relatively small effect size, with students being 1.163 and 1.256, respectively, more likely to be proficient when attending a charter school. "
   ]
  },
  {
   "cell_type": "markdown",
   "id": "educational-syracuse",
   "metadata": {},
   "source": [
    "## Conclusions\n",
    "\n",
    "More than anything, the data reported on here is proof that correlation is not causation. While charter schools seemed to be performing lower overall (without the support of a statistical test), we found at least two racial/ethnic categories where charter schools actually performed better.\n",
    "\n",
    "While charter schools seem to be able to help some races/ethnic groups, it would be interesting to see why. Is it because of better diversity training available to teachers there? Or is it because these students have parents more prepared to fight for their children's education, rather than accept the standard. What is different about these racial groups that improved, compared to low-income students, who still did worse in charter schools?\n",
    "\n",
    "Until we better understand the factors that play into students' abilities to succeed at school, our education system will continue to be unfair.\n",
    "\n",
    "### Works Cited\n",
    "\"Delaware.\" *National Alliance for Public Charter Schools*, https://www.publiccharters.org/our-work/charter-law-database/states/delaware. Accessed 17 March 2021.\n",
    "\n",
    "Jason, Zachary. \"The Battle Over Charter Schools.\" *Harvard Ed. Magazine*, President and Fellows of Harvard College, Summer 2017, https://www.gse.harvard.edu/news/ed/17/05/battle-over-charter-schools. Accessed 17 March 2021.\n",
    "\n",
    "Rothstein, Richard. \"The Racial Achievement Gap, Segregated Schools, and Segregated Neighborhoods - A Constitutional Insult.\" *Economic Policy Institute*, 12 Nov. 2014, [https://www.epi.org/publication/the-racial-achievement-gap-segregated-schools-and-segregated-neighborhoods-a-constitutional-insult/](https://www.epi.org/publication/the-racial-achievement-gap-segregated-schools-and-segregated-neighborhoods-a-constitutional-insult/). Accessed 17 March 2021."
   ]
  },
  {
   "cell_type": "code",
   "execution_count": null,
   "id": "fiscal-austria",
   "metadata": {},
   "outputs": [],
   "source": []
  }
 ],
 "metadata": {
  "kernelspec": {
   "display_name": "Python 3",
   "language": "python",
   "name": "python3"
  },
  "language_info": {
   "codemirror_mode": {
    "name": "ipython",
    "version": 3
   },
   "file_extension": ".py",
   "mimetype": "text/x-python",
   "name": "python",
   "nbconvert_exporter": "python",
   "pygments_lexer": "ipython3",
   "version": "3.9.1"
  }
 },
 "nbformat": 4,
 "nbformat_minor": 5
}
